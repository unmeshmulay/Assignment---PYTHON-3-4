{
 "cells": [
  {
   "cell_type": "markdown",
   "metadata": {},
   "source": [
    "<B>Unmesh Mulay</B>\n",
    "\n",
    "Task 1:\n",
    "    \n",
    "1.1 Write a Python Program to implement your own myreduce() function which works exactly like\n",
    "Python's built-in function reduce()"
   ]
  },
  {
   "cell_type": "code",
   "execution_count": 9,
   "metadata": {},
   "outputs": [
    {
     "name": "stdout",
     "output_type": "stream",
     "text": [
      "myreduce() function output\n",
      "45\n",
      "\n",
      "\n",
      "Reconciliation with Python's built-in function output\n",
      "45\n",
      "\n",
      "\n",
      "\n"
     ]
    }
   ],
   "source": [
    "# Unmesh Mulay \n",
    "# Assignment Python 3 & 4 Session\n",
    "# Task 1 - Program 1.1 - Date 6th Jan 2019 \n",
    "\n",
    "# importing functools for reduce() \n",
    "import functools \n",
    "\n",
    "def myreduce(lst):\n",
    "    mycount= 0\n",
    "    for i in lst:\n",
    "        mycount += i\n",
    "    return mycount\n",
    "\n",
    "print(\"myreduce() function output\")\n",
    "print(myreduce(list(range(10))))\n",
    "print(\"\\n\")\n",
    "print(\"Reconciliation with Python's built-in function output\")\n",
    "print (functools.reduce(lambda a,b : a+b,list(range(10)))) \n",
    "print(\"\\n\\n\")"
   ]
  },
  {
   "cell_type": "markdown",
   "metadata": {},
   "source": [
    "Task 1:\n",
    "    \n",
    "1.2 Write a Python program to implement your own myfilter() function which works exactly like\n",
    "Python's built-in function filter()"
   ]
  },
  {
   "cell_type": "code",
   "execution_count": 33,
   "metadata": {},
   "outputs": [
    {
     "name": "stdout",
     "output_type": "stream",
     "text": [
      "myfilter_EvenNum() function output\n",
      "[0, 2, 4, 6, 8]\n",
      "\n",
      "\n",
      "Reconciliation with Python's built-in function output\n",
      "[0, 2, 4, 6, 8]\n",
      "----------------\n",
      "\n",
      "myfilter_OddNum() function output\n",
      "[1, 3, 5, 7, 9]\n",
      "\n",
      "\n",
      "Reconciliation with Python's built-in function output\n",
      "[1, 3, 5, 7, 9]\n",
      "----------------\n",
      "\n",
      "\n"
     ]
    }
   ],
   "source": [
    "# Unmesh Mulay \n",
    "# Assignment Python 3 & 4 Session\n",
    "# Task 1 - Program 1.2 - Date 6th Jan 2019 \n",
    "\n",
    "def myfilter_EvenNum(lst):\n",
    "    retList_Even = []\n",
    "    for i in lst:\n",
    "        if i%2==0:\n",
    "            retList_Even.append(i)\n",
    "    return retList_Even\n",
    "\n",
    "print(\"myfilter_EvenNum() function output\")\n",
    "print(myfilter_EvenNum(list(range(10))))\n",
    "print(\"\\n\")\n",
    "print(\"Reconciliation with Python's built-in function output\")\n",
    "print(list(filter(lambda x:x%2==0,list(range(10)))))\n",
    "\n",
    "print(\"----------------\\n\")\n",
    "def myfilter_OddNum(lst):\n",
    "    retList_Odd = []\n",
    "    for i in lst:\n",
    "        if i%2!=0:\n",
    "            retList_Odd.append(i)\n",
    "    return retList_Odd\n",
    "print(\"myfilter_OddNum() function output\")\n",
    "print(myfilter_OddNum(list(range(10))))\n",
    "print(\"\\n\")\n",
    "print(\"Reconciliation with Python's built-in function output\")\n",
    "print(list(filter(lambda x:x%2!=0,list(range(10)))))\n",
    "print(\"----------------\\n\\n\")"
   ]
  },
  {
   "cell_type": "markdown",
   "metadata": {},
   "source": [
    "Task 1:\n",
    "    \n",
    "2. Implement List comprehensions to produce the following lists.\n",
    "\n",
    "Write List comprehensions to produce the following Lists\n",
    "\n",
    "['A', 'C', 'A', 'D', 'G', 'I', ’L’, ‘ D’]\n",
    "\n",
    "['x', 'xx', 'xxx', 'xxxx', 'y', 'yy', 'yyy', 'yyyy', 'z', 'zz', 'zzz', 'zzzz']\n",
    "\n",
    "['x', 'y', 'z', 'xx', 'yy', 'zz', 'xx', 'yy', 'zz', 'xxxx', 'yyyy', 'zzzz']\n",
    "\n",
    "[[2], [3], [4], [3], [4], [5], [4], [5], [6]]\n",
    "\n",
    "[[2, 3, 4, 5], [3, 4, 5, 6], [4, 5, 6, 7], [5, 6, 7, 8]]\n",
    "\n",
    "[(1, 1), (2, 1), (3, 1), (1, 2), (2, 2), (3, 2), (1, 3), (2, 3), (3, 3)]\n",
    "\n"
   ]
  },
  {
   "cell_type": "code",
   "execution_count": 43,
   "metadata": {},
   "outputs": [
    {
     "name": "stdout",
     "output_type": "stream",
     "text": [
      "['A', 'C', 'A', 'D', 'G', 'I', 'L', 'D']\n",
      "['x', 'xx', 'xxx', 'xxxx', 'y', 'yy', 'yyy', 'yyyy', 'z', 'zz', 'zzz', 'zzzz']\n",
      "['x', 'y', 'z', 'xx', 'yy', 'zz', 'xxx', 'yyy', 'zzz', 'xxxx', 'yyyy', 'zzzz']\n",
      "[[2], [3], [4], [3], [4], [5], [4], [5], [6]]\n",
      "[[2, 3, 4, 5], [3, 4, 5, 6], [4, 5, 6, 7], [5, 6, 7, 8]]\n",
      "[(1, 1), (1, 2), (1, 3), (2, 1), (2, 2), (2, 3), (3, 1), (3, 2), (3, 3)]\n",
      "\n",
      "\n",
      "\n"
     ]
    }
   ],
   "source": [
    "# Unmesh Mulay \n",
    "# Assignment Python 3 & 4 Session\n",
    "# Task 1 - Program 2 - Date 6th Jan 2019 \n",
    "\n",
    "myStr = \"ACADGILD\"\n",
    "print(list(i for i in myStr))\n",
    "\n",
    "myStr = \"xyz\"\n",
    "print(list(i*j for i in myStr for j in range(1,5)))\n",
    "print(list(i*j for i in range(1,5) for j in myStr))\n",
    "\n",
    "\n",
    "lst=list(range(2,5))\n",
    "resultlst=[[i+j] for i in lst for j in range(0,3)]\n",
    "print (resultlst)\n",
    "\n",
    "lst=list(range(2,6))\n",
    "resultlst=[[i+j for i in lst] for j in range(0,4)]\n",
    "print (resultlst)\n",
    "\n",
    "lst=list(range(1,4))\n",
    "resultlst=[(i,j) for i in lst for j in range(1,4)]\n",
    "print (resultlst)\n",
    "\n",
    "print(\"\\n\\n\")"
   ]
  },
  {
   "cell_type": "markdown",
   "metadata": {},
   "source": [
    "Task 1:\n",
    "    \n",
    "3. Implement a function longestWord() that takes a list of words and returns the longest one."
   ]
  },
  {
   "cell_type": "code",
   "execution_count": 44,
   "metadata": {},
   "outputs": [
    {
     "name": "stdin",
     "output_type": "stream",
     "text": [
      "Enter any sentence sdsa dfsdgdfgfdh dfdf\n"
     ]
    },
    {
     "name": "stdout",
     "output_type": "stream",
     "text": [
      "Longest word in provided sentence is - 'dfsdgdfgfdh'\n",
      "\n",
      "\n",
      "\n"
     ]
    }
   ],
   "source": [
    "# Unmesh Mulay \n",
    "# Assignment Python 3 & 4 Session\n",
    "# Task 1 - Program 3 - Date 6th Jan 2019 \n",
    "\n",
    "\n",
    "from functools import reduce\n",
    "#print(reduce( lambda x,y: x if (len(x) > len(y)) else y, input(\"Enter any sentence\").split()))\n",
    "\n",
    "def longestword(myInput):\n",
    "    return reduce( lambda x,y: x if (len(x) > len(y)) else y, myInput.split())\n",
    "\n",
    "print(\"Longest word in provided sentence is - '\" + longestword(input(\"Enter any sentence\"))  + \"'\")\n",
    "print(\"\\n\\n\")"
   ]
  },
  {
   "cell_type": "markdown",
   "metadata": {},
   "source": [
    "Task 2:\n",
    "    \n",
    "1.1 Write a Python Program(with class concepts) to find the area of the triangle using the below\n",
    "formula.\n",
    "area = (s*(s-a)*(s-b)*(s-c)) ** 0.5\n",
    "Function to take the length of the sides of triangle from user should be defined in the parent\n",
    "class and function to calculate the area should be defined in subclass."
   ]
  },
  {
   "cell_type": "code",
   "execution_count": 45,
   "metadata": {},
   "outputs": [],
   "source": [
    "# Unmesh Mulay \n",
    "# Assignment Python 3 & 4 Session\n",
    "# Task 2 - Program 1.1 - Date 6th Jan 2019 \n",
    "\n",
    "class clsTriangle:  \n",
    "    def __init__(self, side, side_a, side_b, side_c):\n",
    "        self.side = side\n",
    "        self.side_a = side_a\n",
    "        self.side_b = side_b\n",
    "        self.side_c = side_c\n",
    "        \n",
    "    def __str__(self):\n",
    "        return( \"Triangle: \\n \\tSide: \" + str(self.side) +\n",
    "               \"\\n \\t side_a: \" + str(self.side_a) + \n",
    "                \"\\n \\t side_b: \" + str(self.side_b) + \n",
    "                \"\\n \\t side_c: \" + str(self.side_c))\n",
    "    def Area(self):\n",
    "        return(self.side*(self.side - self.side_a) *(self.side - self.side_b) *(self.side - self.side_c) ** 0.5)\n",
    "\n",
    "class clsArea(clsTriangle):\n",
    "    def __init__(self, side, side_a, side_b, side_c):\n",
    "        clsTriangle.__init__(self, side, side_a, side_b, side_c)\n",
    "    def __str__(self):\n",
    "        clsTriangle.__str__()\n",
    "    def Area_of_Triangle(self):\n",
    "        return clsTriangle.Area(self)"
   ]
  },
  {
   "cell_type": "code",
   "execution_count": 51,
   "metadata": {},
   "outputs": [
    {
     "name": "stdout",
     "output_type": "stream",
     "text": [
      "Area of Triangle is -  13.856406460551018\n",
      "\n",
      "\n",
      "\n"
     ]
    }
   ],
   "source": [
    " \n",
    "objArea = clsArea(4,5,6,7)\n",
    "\n",
    "\n",
    "print(\"Area of Triangle is - \" , abs(objArea.Area_of_Triangle()))\n",
    "print(\"\\n\\n\")"
   ]
  },
  {
   "cell_type": "markdown",
   "metadata": {},
   "source": [
    "Task 2:\n",
    "    \n",
    "1.2 Write a function filter_long_words() that takes a list of words and an integer n and returns the list\n",
    "of words that are longer than n."
   ]
  },
  {
   "cell_type": "code",
   "execution_count": 53,
   "metadata": {},
   "outputs": [
    {
     "name": "stdin",
     "output_type": "stream",
     "text": [
      "Enter The sentence :  fsd fhgjfh v fghgf hngh\n",
      "Length of the word  to be excluded from above sentencence:  3\n"
     ]
    },
    {
     "name": "stdout",
     "output_type": "stream",
     "text": [
      "['fhgjfh', 'fghgf', 'hngh']\n",
      "\n",
      "\n",
      "\n"
     ]
    }
   ],
   "source": [
    "# Unmesh Mulay \n",
    "# Assignment Python 3 & 4 Session\n",
    "# Task 2 - Program 1.2 - Date 6th Jan 2019 \n",
    "\n",
    "\n",
    "inStr = input(\"Enter The sentence : \")\n",
    "min_limit = int(input(\"Length of the word  to be excluded from above sentencence: \"))\n",
    "\n",
    "#print(list(filter(lambda x: x if len(x) > min_limit else False,  inStr.split())))\n",
    "\n",
    "# def filter_long_word(min_limit, inStr):\n",
    "#     retList = []\n",
    "#     for i in inStr.split():\n",
    "#         if len(i) > min_limit:\n",
    "#             retList += [i]\n",
    "#     return retList\n",
    "\n",
    "# print(filter_long_word(min_limit,inStr))        \n",
    "          \n",
    "def filter_long_word(min_limit, inStr):\n",
    "    return list(filter(lambda x: x if len(x) > min_limit else False,  inStr.split()))\n",
    "\n",
    "print(filter_long_word(min_limit,inStr))  \n",
    "\n",
    "print(\"\\n\\n\")"
   ]
  },
  {
   "cell_type": "markdown",
   "metadata": {},
   "source": [
    "Task 2:\n",
    "\n",
    "2.1 Write a Python program using function concept that maps list of words into a list of integers\n",
    "representing the lengths of the corresponding words .\n",
    "Hint: If a list [ ab,cde,erty] is passed on to the python function output should come as [2,3,4]\n",
    "Here 2,3 and 4 are the lengths of the words in the list."
   ]
  },
  {
   "cell_type": "code",
   "execution_count": 55,
   "metadata": {},
   "outputs": [
    {
     "name": "stdin",
     "output_type": "stream",
     "text": [
      "Enter The sentence :  s xcvdfg cvgfdg d dfd dgfdgd\n"
     ]
    },
    {
     "name": "stdout",
     "output_type": "stream",
     "text": [
      "[1, 6, 6, 1, 3, 6]\n",
      "\n",
      "\n",
      "\n"
     ]
    }
   ],
   "source": [
    "# Unmesh Mulay \n",
    "# Assignment Python 3 & 4 Session\n",
    "# Task 2 - Program 2.1 - Date 6th Jan 2019 \n",
    "\n",
    "inStr = input(\"Enter The sentence : \")\n",
    "print(list(map(lambda x:len(x), inStr.split())))\n",
    "print(\"\\n\\n\")"
   ]
  },
  {
   "cell_type": "markdown",
   "metadata": {},
   "source": [
    "Task 2:\n",
    "\n",
    "2.2 Write a Python function which takes a character (i.e. a string of length 1) and returns True if it is\n",
    "a vowel, False otherwise."
   ]
  },
  {
   "cell_type": "code",
   "execution_count": 58,
   "metadata": {},
   "outputs": [
    {
     "name": "stdin",
     "output_type": "stream",
     "text": [
      "Enter any one Character:  d\n"
     ]
    },
    {
     "name": "stdout",
     "output_type": "stream",
     "text": [
      "False\n"
     ]
    },
    {
     "name": "stdin",
     "output_type": "stream",
     "text": [
      "Enter any one Character:  f\n"
     ]
    },
    {
     "name": "stdout",
     "output_type": "stream",
     "text": [
      "False\n"
     ]
    },
    {
     "name": "stdin",
     "output_type": "stream",
     "text": [
      "Enter any one Character:  a\n"
     ]
    },
    {
     "name": "stdout",
     "output_type": "stream",
     "text": [
      "True\n"
     ]
    },
    {
     "name": "stdin",
     "output_type": "stream",
     "text": [
      "Enter any one Character:  r\n"
     ]
    },
    {
     "name": "stdout",
     "output_type": "stream",
     "text": [
      "False\n"
     ]
    },
    {
     "name": "stdin",
     "output_type": "stream",
     "text": [
      "Enter any one Character:  e\n"
     ]
    },
    {
     "name": "stdout",
     "output_type": "stream",
     "text": [
      "True\n"
     ]
    },
    {
     "name": "stdin",
     "output_type": "stream",
     "text": [
      "Enter any one Character:  \n"
     ]
    },
    {
     "name": "stdout",
     "output_type": "stream",
     "text": [
      "Exited\n"
     ]
    }
   ],
   "source": [
    "# Unmesh Mulay \n",
    "# Assignment Python 3 & 4 Session\n",
    "# Task 2 - Program 2.1 - Date 6th Jan 2019 \n",
    "\n",
    "def check_vowelChar(inputChar):\n",
    "    vowelStr = 'AEIOU'\n",
    "    if vowelStr.find(inputChar.lstrip()[0].upper())  != -1:\n",
    "        if len(inputChar) == 1:\n",
    "            return True\n",
    "            #print(\"You have entered vowel Char\")\n",
    "        else:\n",
    "            return False\n",
    "            #print(\"First character in the string is vowel Char\")\n",
    "    else:\n",
    "        return False\n",
    "        #print(\"This is not vowel Char\")\n",
    "        \n",
    "while True: \n",
    "    inputChar = input(\"Enter any one Character: \")\n",
    "    if inputChar.upper() == 'STOP' or inputChar == '':\n",
    "        print(\"Exited\")\n",
    "        break\n",
    "    else:\n",
    "        print(check_vowelChar(inputChar))\n",
    "    "
   ]
  }
 ],
 "metadata": {
  "kernelspec": {
   "display_name": "Python 3",
   "language": "python",
   "name": "python3"
  },
  "language_info": {
   "codemirror_mode": {
    "name": "ipython",
    "version": 3
   },
   "file_extension": ".py",
   "mimetype": "text/x-python",
   "name": "python",
   "nbconvert_exporter": "python",
   "pygments_lexer": "ipython3",
   "version": "3.7.1"
  }
 },
 "nbformat": 4,
 "nbformat_minor": 2
}
